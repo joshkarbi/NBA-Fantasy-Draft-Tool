{
 "cells": [
  {
   "cell_type": "code",
   "execution_count": 1,
   "metadata": {},
   "outputs": [
    {
     "name": "stdout",
     "output_type": "stream",
     "text": [
      "Dataset found.\n"
     ]
    }
   ],
   "source": [
    "## Scrape player data if we haven't already\n",
    "from basketball_reference_web_scraper import client\n",
    "from basketball_reference_web_scraper.data import OutputType\n",
    "import pandas as pd\n",
    "from os import path\n",
    "from datetime import datetime\n",
    "\n",
    "# Get last advanced season statistics for all players\n",
    "year = str(datetime.now().year)\n",
    "\n",
    "ADVANCED_SEASON_TOTALS = f\"data/player_advanced_stats_{year}.csv\"\n",
    "SEASON_TOTALS = f\"data/player_stats_{year}.csv\"\n",
    "MERGED_DATASET_FILE = f\"data/player_combined_data_{year}.csv\"\n",
    "OUTPUT_FILE = f\"output_files/players_ranked_by_score_{year}.csv\"\n",
    "\n",
    "if not path.exists(MERGED_DATASET_FILE):\n",
    "    print(\"Scraping advanced and regular season totals.\")\n",
    "    client.players_advanced_season_totals(season_end_year=2020,\n",
    "        output_type=OutputType.CSV, output_file_path=ADVANCED_SEASON_TOTALS)\n",
    "    client.players_season_totals(season_end_year=2020,\n",
    "        output_type=OutputType.CSV, output_file_path=SEASON_TOTALS)\n",
    "\n",
    "    with open(ADVANCED_SEASON_TOTALS) as advanced:\n",
    "        with open(SEASON_TOTALS) as regular:\n",
    "            newdata = open(MERGED_DATASET, 'w+')\n",
    "            i = 0\n",
    "            reglines = regular.readlines()\n",
    "            for line in advanced.readlines():\n",
    "                    newdata.write(line.replace('\\n','') + reglines[i])\n",
    "                    i += 1\n",
    "    print(\"Datasets merged.\")\n",
    "else:\n",
    "    print(\"Dataset found.\")"
   ]
  },
  {
   "cell_type": "code",
   "execution_count": 2,
   "metadata": {},
   "outputs": [],
   "source": [
    "import json, sys\n",
    "\n",
    "## Define player structure\n",
    "class Player:\n",
    "    def __init__(self, score, name, position):\n",
    "        self.score = score\n",
    "        self.name = name\n",
    "        self.pos = position\n",
    "    def __lt__(self, other):\n",
    "        return self.score < other.score"
   ]
  },
  {
   "cell_type": "code",
   "execution_count": 3,
   "metadata": {},
   "outputs": [
    {
     "name": "stdout",
     "output_type": "stream",
     "text": [
      "Found configuration: {\n",
      "    \"player_stat_categories\": {\n",
      "        \"assists\": 2,\n",
      "        \"blocks\": 0.05,\n",
      "        \"defensive_rebounds\": 1,\n",
      "        \"games_played\": 3,\n",
      "        \"games_started\": 3,\n",
      "        \"made_field_goals\": 2,\n",
      "        \"made_free_throws\": 0.05,\n",
      "        \"made_three_point_field_goals\": 2,\n",
      "        \"minutes_played\": 0.01,\n",
      "        \"offensive_rebounds\": 1,\n",
      "        \"steals\": 0.05,\n",
      "        \"total_rebound_percentage\": 0.05,\n",
      "        \"true_shooting_percentage\": 0.05,\n",
      "        \"turnovers\": -2\n",
      "    }\n",
      "}\n",
      "Enter Y to accept or enter a new config: Y\n",
      "\n",
      "Configuration is:  {\n",
      "    \"player_stat_categories\": {\n",
      "        \"assists\": 2,\n",
      "        \"blocks\": 0.05,\n",
      "        \"defensive_rebounds\": 1,\n",
      "        \"games_played\": 3,\n",
      "        \"games_started\": 3,\n",
      "        \"made_field_goals\": 2,\n",
      "        \"made_free_throws\": 0.05,\n",
      "        \"made_three_point_field_goals\": 2,\n",
      "        \"minutes_played\": 0.01,\n",
      "        \"offensive_rebounds\": 1,\n",
      "        \"steals\": 0.05,\n",
      "        \"total_rebound_percentage\": 0.05,\n",
      "        \"true_shooting_percentage\": 0.05,\n",
      "        \"turnovers\": -2\n",
      "    }\n",
      "}\n"
     ]
    }
   ],
   "source": [
    "## Define strategy paramaters and their weightings \n",
    "strategy_name = \"config/strategy.json\"\n",
    "config = json.load(open(strategy_name) )\n",
    "print(\"Found configuration:\", json.dumps(config, indent=4, sort_keys=True))\n",
    "  \n",
    "choice = input(\"Enter Y to accept or enter a new config: \")\n",
    "if not choice==\"Y\":\n",
    "    config = json.loads(choice)\n",
    "    \n",
    "print(\"\\nConfiguration is: \", json.dumps(config, indent=4, sort_keys=True))"
   ]
  },
  {
   "cell_type": "code",
   "execution_count": 4,
   "metadata": {},
   "outputs": [],
   "source": [
    "## Generate a score for each player.\n",
    "\n",
    "with open(MERGED_DATASET_FILE) as data:\n",
    "    # get indices of each CSV category\n",
    "    tokens = {}\n",
    "    i = 0\n",
    "    for token in data.readlines()[0].split(','):\n",
    "        tokens[token.replace('\\n', '')] = i\n",
    "        i+= 1\n",
    "\n",
    "    data.seek(0)\n",
    "    results = []\n",
    "    observed_min, observed_max = sys.maxsize, -sys.maxsize\n",
    "    for line in data.readlines()[1:]:\n",
    "        line = line.split(',')\n",
    "        score = 0\n",
    "        for category in config[\"player_stat_categories\"].keys():\n",
    "            score_this_category = float(line[tokens[category]]) * config[\"player_stat_categories\"][category]\n",
    "            score += score_this_category\n",
    "        observed_min = observed_min if observed_min < score else score\n",
    "        observed_max = observed_max if observed_max > score else score\n",
    "        name = line[tokens[\"name\"]]\n",
    "        positions = line[tokens[\"positions\"]]\n",
    "        results.append(Player(score, name, positions))\n",
    "\n",
    "    results.sort(reverse=True)"
   ]
  },
  {
   "cell_type": "code",
   "execution_count": 5,
   "metadata": {},
   "outputs": [],
   "source": [
    "## Scale to score between 0 -> 100%\n",
    "for i in range(len(results)):\n",
    "    results[i].score /= observed_max\n",
    "    results[i].score = round(results[i].score * 100, 2)"
   ]
  },
  {
   "cell_type": "code",
   "execution_count": 6,
   "metadata": {},
   "outputs": [
    {
     "data": {
      "text/plain": [
       "Text(0.5, 1.0, 'Distribution of Player Scores')"
      ]
     },
     "execution_count": 6,
     "metadata": {},
     "output_type": "execute_result"
    },
    {
     "data": {
      "image/png": "[encoded data removed]",
      "text/plain": [
       "<Figure size 1080x720 with 1 Axes>"
      ]
     },
     "metadata": {
      "needs_background": "light"
     },
     "output_type": "display_data"
    }
   ],
   "source": [
    "## Plot the player scores to make sure this makes sense.\n",
    "import matplotlib\n",
    "import matplotlib.pyplot as plt\n",
    "import numpy as np\n",
    "matplotlib.rcParams['figure.figsize'] = [15, 10]\n",
    "\n",
    "x = [y.score for y in results]\n",
    "plt.hist(x, density=False, bins=100) \n",
    "plt.ylabel('Frequency')\n",
    "plt.xlabel('Player Score');\n",
    "plt.title('Distribution of Player Scores')"
   ]
  },
  {
   "cell_type": "code",
   "execution_count": 7,
   "metadata": {},
   "outputs": [],
   "source": [
    "## Configure number of players required in each positions\n",
    "required_players = {\n",
    "    \"C\": {\n",
    "        \"number\": 1,\n",
    "        \"positions\": [\"CENTER\"]\n",
    "    },\n",
    "    \"F\": {\n",
    "        \"number\": 2,\n",
    "        \"positions\": [\"SMALL FORWARD\", \"POWER FORWARD\"]\n",
    "    },\n",
    "    \"G\": {\n",
    "        \"number\": 2,\n",
    "        \"positions\": [\"POINT GUARD\", \"SHOOTING GUARD\"]\n",
    "    },\n",
    "    \"ANY\": {\n",
    "        \"number\": 3\n",
    "    }\n",
    "}\n",
    "\n",
    "drafted = {\n",
    "    \"C\": 0,\n",
    "    \"F\": 0,\n",
    "    \"G\": 0,\n",
    "    \"ANY\": 0\n",
    "}\n",
    "should_draft = []"
   ]
  },
  {
   "cell_type": "code",
   "execution_count": 8,
   "metadata": {},
   "outputs": [],
   "source": [
    "## Run the draft. Ask for the name of the drafted player\n",
    "from IPython.display import display, Markdown, clear_output\n",
    "from ipywidgets import interact, interactive, fixed, interact_manual\n",
    "import ipywidgets as widgets\n",
    "buttons = widgets.ToggleButtons(\n",
    "    options=['My Pick', 'Others Pick'],\n",
    "    description=\"Who's pick?\",\n",
    "    disabled=False,\n",
    "    button_style='', # 'success', 'info', 'warning', 'danger' or ''\n",
    "    tooltips=['Description of slow', 'Description of regular', 'Description of fast'],\n",
    "#     icons=['check'] * 3\n",
    ")\n",
    "text = widgets.Text(\n",
    "    value='',\n",
    "    placeholder='',\n",
    "    description='Picked:',\n",
    "    disabled=False\n",
    ")\n",
    "\n",
    "textArea = widgets.Textarea(\n",
    "    value='',\n",
    "    placeholder='',\n",
    "    description='Should pick:',\n",
    "    disabled=False\n",
    ")"
   ]
  },
  {
   "cell_type": "code",
   "execution_count": 9,
   "metadata": {},
   "outputs": [],
   "source": [
    "from IPython.display import clear_output\n",
    "def update_round(b):\n",
    "    clear_output()\n",
    "    display(buttons)\n",
    "    display(text)\n",
    "    button = widgets.Button(description=\"Submit Round\")\n",
    "    display(button)\n",
    "    button.on_click(update_round)\n",
    "    if buttons.value == \"My Pick\":\n",
    "        # Start from top of the results list, pick a position we need to fill.\n",
    "        for i in range(len(results)):\n",
    "            position = results[i].pos\n",
    "            if \"CENTER\" in position:\n",
    "                letter = \"C\"\n",
    "            elif \"FORWARD\" in position:\n",
    "                letter = \"F\"\n",
    "            elif \"GUARD\" in position:\n",
    "                letter = \"G\"\n",
    "\n",
    "            num_needed = required_players[letter][\"number\"] + required_players[\"ANY\"][\"number\"]\n",
    "            num_have = drafted[letter] + drafted[\"ANY\"]\n",
    "\n",
    "\n",
    "            if num_have < num_needed:\n",
    "                if drafted[letter] < required_players[letter][\"number\"]:\n",
    "                    drafted[letter] += 1\n",
    "                else:\n",
    "                    drafted[\"ANY\"] += 1\n",
    "                    \n",
    "                print(\"You should pick\", results[i].name)\n",
    "                should_draft.append(results[i].name)\n",
    "                print(\"Current team:\", should_draft, drafted)\n",
    "                results.pop(i)\n",
    "                return\n",
    "        print(\"Team full: \", should_draft, drafted)\n",
    "    else:\n",
    "        picked = text.value\n",
    "        # Remove player from set of available\n",
    "        for i in range(len(results)):\n",
    "            if (results[i].name.find(picked) == 0):\n",
    "                \n",
    "                print(\"Removed \", results[i].name)\n",
    "                results.pop(i)\n",
    "                \n",
    "                return"
   ]
  },
  {
   "cell_type": "code",
   "execution_count": 10,
   "metadata": {},
   "outputs": [
    {
     "data": {
      "application/vnd.jupyter.widget-view+json": {
       "model_id": "678093e22d65405b9f1dc16ee7edc6de",
       "version_major": 2,
       "version_minor": 0
      },
      "text/plain": [
       "ToggleButtons(description=\"Who's pick?\", options=('My Pick', 'Others Pick'), tooltips=('Description of slow', …"
      ]
     },
     "metadata": {},
     "output_type": "display_data"
    },
    {
     "data": {
      "application/vnd.jupyter.widget-view+json": {
       "model_id": "22011d5026c64cf9a1eeeb22ad287c66",
       "version_major": 2,
       "version_minor": 0
      },
      "text/plain": [
       "Text(value='', description='Picked:', placeholder='')"
      ]
     },
     "metadata": {},
     "output_type": "display_data"
    },
    {
     "data": {
      "application/vnd.jupyter.widget-view+json": {
       "model_id": "b01e7b584e2e4e469452752359ad4f8d",
       "version_major": 2,
       "version_minor": 0
      },
      "text/plain": [
       "Button(description='Submit Round', style=ButtonStyle())"
      ]
     },
     "metadata": {},
     "output_type": "display_data"
    },
    {
     "name": "stdout",
     "output_type": "stream",
     "text": [
      "You should pick LeBron James\n",
      "Current team: ['LeBron James'] {'C': 0, 'F': 0, 'G': 1, 'ANY': 0}\n"
     ]
    }
   ],
   "source": [
    "display(buttons)\n",
    "display(text)\n",
    "button = widgets.Button(description=\"Submit Round\")\n",
    "display(button)\n",
    "button.on_click(update_round)"
   ]
  },
  {
   "cell_type": "code",
   "execution_count": null,
   "metadata": {},
   "outputs": [],
   "source": []
  }
 ],
 "metadata": {
  "kernelspec": {
   "display_name": "Python 3.7.3 64-bit",
   "language": "python",
   "name": "python37364bit7650c82a1ec84242a60a16439bb0178f"
  },
  "language_info": {
   "codemirror_mode": {
    "name": "ipython",
    "version": 3
   },
   "file_extension": ".py",
   "mimetype": "text/x-python",
   "name": "python",
   "nbconvert_exporter": "python",
   "pygments_lexer": "ipython3",
   "version": "3.7.7"
  }
 },
 "nbformat": 4,
 "nbformat_minor": 4
}
